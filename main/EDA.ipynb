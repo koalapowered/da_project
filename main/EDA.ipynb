{
 "cells": [
  {
   "cell_type": "markdown",
   "id": "f4406b1dda061848",
   "metadata": {
    "collapsed": false
   },
   "source": [
    "# Data Madness\n",
    "## Group idk\n",
    "\n",
    "### authors:\n",
    "* Simon Garland\n",
    "* PierrePaul Charbonnier\n",
    "* Filip Straka\n",
    "\n",
    "Department of Advanced Computing Sciences\n",
    "Maastricht University\n",
    "March 2024"
   ]
  },
  {
   "cell_type": "markdown",
   "id": "bafba26c9f1be8bd",
   "metadata": {
    "collapsed": false
   },
   "source": [
    "Let's begin with extracting the data from the ZIP files (they'll grow tremendously)"
   ]
  },
  {
   "cell_type": "code",
   "outputs": [],
   "source": [
    "import os.path\n",
    "\n",
    "# NB: im doing it on a small fraction of the data now to prevent my laptop from blowing up ever so nicely\n",
    "\n",
    "## imports ##\n",
    "\n",
    "import pandas as pd\n",
    "import numpy as np\n",
    "import matplotlib.pyplot as plt\n",
    "import seaborn as sns\n",
    "import zipfile\n",
    "import os"
   ],
   "metadata": {
    "collapsed": false,
    "ExecuteTime": {
     "end_time": "2024-03-18T13:58:56.669543700Z",
     "start_time": "2024-03-18T13:58:56.656545100Z"
    }
   },
   "id": "4c53d1d5f626f44a",
   "execution_count": 17
  },
  {
   "cell_type": "markdown",
   "source": [
    "## vvvvvvvvvv      set your data here      vvvvvvvvvv\n",
    "\n",
    "a.k.a. define the modes, years, and months you want to include"
   ],
   "metadata": {
    "collapsed": false
   },
   "id": "13ba5d01c393e015"
  },
  {
   "cell_type": "code",
   "outputs": [],
   "source": [
    "# define all possible files\n",
    "months = ['jan', 'feb', 'mar', 'apr', 'may', 'jun', 'jul', 'aug', 'sep', 'oct', 'nov', 'dec']\n",
    "years = [\"21\"] # \"22\", \"23\", \"24\"\n",
    "modes = [\"standard\"] # \"rapid\", \"blitz\""
   ],
   "metadata": {
    "collapsed": false,
    "ExecuteTime": {
     "end_time": "2024-03-18T13:58:56.701055Z",
     "start_time": "2024-03-18T13:58:56.674166700Z"
    }
   },
   "id": "24c6ed835bb9166c",
   "execution_count": 18
  },
  {
   "cell_type": "code",
   "outputs": [],
   "source": [
    "for month in months:\n",
    "    for mode in modes:\n",
    "        for year in years:\n",
    "            path = '../data_zipped/'+mode+\"_\"+month+year+\"frl_xml.zip\"\n",
    "            if os.path.exists(path):\n",
    "                with zipfile.ZipFile(path, 'r') as zip_ref:\n",
    "                    zip_ref.extractall('../data_unzipped')"
   ],
   "metadata": {
    "collapsed": false,
    "ExecuteTime": {
     "end_time": "2024-03-18T13:59:00.854086300Z",
     "start_time": "2024-03-18T13:58:56.679742900Z"
    }
   },
   "id": "8095edc654e47a66",
   "execution_count": 19
  },
  {
   "cell_type": "code",
   "outputs": [],
   "source": [
    "lst_std = []\n",
    "lst_rapid = []\n",
    "lst_blitz = []"
   ],
   "metadata": {
    "collapsed": false,
    "ExecuteTime": {
     "end_time": "2024-03-18T13:59:00.861205900Z",
     "start_time": "2024-03-18T13:59:00.854086300Z"
    }
   },
   "id": "85d5966d6e78ebd",
   "execution_count": 20
  },
  {
   "cell_type": "code",
   "outputs": [],
   "source": [
    "def xml_to_list(months_, years_, mode_):\n",
    "    lst = []\n",
    "    for month_ in months_:\n",
    "        for year_ in years_:\n",
    "            path_ = '../data_unzipped/'+mode_+\"_\"+month_+year_+\"frl_xml.xml\"\n",
    "            if os.path.exists(path_):\n",
    "                df = pd.read_xml(path_)\n",
    "                # making sure we don't add useless people\n",
    "                df.dropna(subset=['rating','birthday','sex','name','country'])\n",
    "                df.add_suffix(month_+year_)\n",
    "                df.head(10)\n",
    "                lst.append(df)\n",
    "    return lst"
   ],
   "metadata": {
    "collapsed": false,
    "ExecuteTime": {
     "end_time": "2024-03-18T13:59:00.933091400Z",
     "start_time": "2024-03-18T13:59:00.860182800Z"
    }
   },
   "id": "ccfb951a315a483f",
   "execution_count": 21
  },
  {
   "cell_type": "markdown",
   "source": [
    "## vvvvvvvvvv      get your data here      vvvvvvvvvv"
   ],
   "metadata": {
    "collapsed": false
   },
   "id": "f68c556a99a3409f"
  },
  {
   "cell_type": "code",
   "outputs": [],
   "source": [
    "lst_std_ = xml_to_list(months, years, \"standard\")\n",
    "print(lst_std_)"
   ],
   "metadata": {
    "collapsed": false,
    "is_executing": true,
    "ExecuteTime": {
     "start_time": "2024-03-18T13:59:00.934116700Z"
    }
   },
   "id": "535a637d80459c58",
   "execution_count": null
  },
  {
   "cell_type": "code",
   "outputs": [],
   "source": [
    "# not used yet\n",
    "\n",
    "int_to_mon = {\n",
    "    0: \"jan\",\n",
    "    1: \"feb\",\n",
    "    2: \"mar\",\n",
    "    3: \"apr\",\n",
    "    4: \"may\",\n",
    "    5: \"jun\",\n",
    "    6: \"jul\",\n",
    "    7: \"aug\",\n",
    "    8: \"sep\",\n",
    "    9: \"oct\",\n",
    "    10: \"nov\",\n",
    "    11: \"dec\"\n",
    "}\n",
    "\n",
    "def lst_to_df(lst):\n",
    "    for i in range(len(lst)):\n",
    "        lst[i] = lst[i].add_suffix('_'+str(i))\n",
    "        lst[i].set_index('fideid_'+str(i), inplace=True)\n",
    "        \n",
    "        \n",
    "    combined_df = lst[0]\n",
    "    for i in range(1, len(lst)):\n",
    "        combined_df = combined_df.combine_first(lst[i])\n",
    "        \n",
    "    return combined_df"
   ],
   "metadata": {
    "collapsed": false,
    "is_executing": true
   },
   "id": "96f6a96aecb5bf7f",
   "execution_count": null
  },
  {
   "cell_type": "code",
   "outputs": [],
   "source": [
    "df_std_ = lst_to_df(lst_std_)"
   ],
   "metadata": {
    "collapsed": false,
    "is_executing": true
   },
   "id": "491fa4e84ac022b0",
   "execution_count": null
  },
  {
   "cell_type": "code",
   "outputs": [],
   "source": [
    "#print(df_std_2024)"
   ],
   "metadata": {
    "collapsed": false,
    "is_executing": true
   },
   "id": "b15cd221363c7cee",
   "execution_count": null
  },
  {
   "cell_type": "markdown",
   "source": [],
   "metadata": {
    "collapsed": false
   },
   "id": "ed3db19946eff702"
  },
  {
   "cell_type": "code",
   "outputs": [],
   "source": [
    "plt.hist([df_std_['rating_'+str(i)] for i in range(3)], bins=40)"
   ],
   "metadata": {
    "collapsed": false,
    "is_executing": true
   },
   "id": "c210ec6701ec6029",
   "execution_count": null
  }
 ],
 "metadata": {
  "kernelspec": {
   "display_name": "Python 3",
   "language": "python",
   "name": "python3"
  },
  "language_info": {
   "codemirror_mode": {
    "name": "ipython",
    "version": 3
   },
   "file_extension": ".py",
   "mimetype": "text/x-python",
   "name": "python",
   "nbconvert_exporter": "python",
   "pygments_lexer": "ipython3",
   "version": "3.10.10"
  }
 },
 "nbformat": 4,
 "nbformat_minor": 5
}
