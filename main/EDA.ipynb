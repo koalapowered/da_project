{
 "cells": [
  {
   "cell_type": "markdown",
   "id": "f4406b1dda061848",
   "metadata": {
    "collapsed": false
   },
   "source": [
    "# Data Madness\n",
    "## Group idk\n",
    "\n",
    "### authors:\n",
    "* Simon Garland\n",
    "* PierrePaul Charbonnier\n",
    "* Filip Straka\n",
    "\n",
    "Department of Advanced Computing Sciences\n",
    "Maastricht University\n",
    "March 2024"
   ]
  },
  {
   "cell_type": "markdown",
   "id": "bafba26c9f1be8bd",
   "metadata": {
    "collapsed": false
   },
   "source": [
    "Let's begin with extracting the data from the ZIP files (they'll grow tremendously)"
   ]
  },
  {
   "cell_type": "code",
   "outputs": [],
   "source": [
    "import os.path\n",
    "\n",
    "# NB: im doing it on a small fraction of the data now to prevent my laptop from blowing up ever so nicely\n",
    "\n",
    "## imports ##\n",
    "\n",
    "import pandas as pd\n",
    "import numpy as np\n",
    "import matplotlib.pyplot as plt\n",
    "import seaborn as sns\n",
    "import zipfile\n",
    "import os"
   ],
   "metadata": {
    "collapsed": false,
    "ExecuteTime": {
     "end_time": "2024-03-17T12:06:38.309133100Z",
     "start_time": "2024-03-17T12:06:38.277068800Z"
    }
   },
   "id": "4c53d1d5f626f44a",
   "execution_count": 71
  },
  {
   "cell_type": "code",
   "outputs": [],
   "source": [
    "# define all possible files\n",
    "months = ['jan', 'feb', 'mar', 'apr', 'may', 'jun', 'jul', 'aug', 'sep', 'oct', 'nov', 'dec']\n",
    "years = [\"21\", \"22\", \"23\", \"24\"]\n",
    "modes = [\"standard\", \"rapid\", \"blitz\"]"
   ],
   "metadata": {
    "collapsed": false,
    "ExecuteTime": {
     "end_time": "2024-03-17T12:06:38.324092200Z",
     "start_time": "2024-03-17T12:06:38.306472700Z"
    }
   },
   "id": "24c6ed835bb9166c",
   "execution_count": 72
  },
  {
   "cell_type": "code",
   "outputs": [],
   "source": [
    "for month in months:\n",
    "    for mode in modes:\n",
    "        #for year in years:\n",
    "        year = \"24\"\n",
    "        path = '../data_zipped/'+mode+\"_\"+month+year+\"frl_xml.zip\"\n",
    "        if os.path.exists(path):\n",
    "            with zipfile.ZipFile(path, 'r') as zip_ref:\n",
    "                zip_ref.extractall('../data_unzipped')"
   ],
   "metadata": {
    "collapsed": false,
    "ExecuteTime": {
     "end_time": "2024-03-17T12:06:40.857466500Z",
     "start_time": "2024-03-17T12:06:38.328081600Z"
    }
   },
   "id": "8095edc654e47a66",
   "execution_count": 73
  },
  {
   "cell_type": "code",
   "outputs": [],
   "source": [
    "lst_std = []\n",
    "lst_rapid = []\n",
    "lst_blitz = []"
   ],
   "metadata": {
    "collapsed": false,
    "ExecuteTime": {
     "end_time": "2024-03-17T12:06:41.069877700Z",
     "start_time": "2024-03-17T12:06:40.867822800Z"
    }
   },
   "id": "85d5966d6e78ebd",
   "execution_count": 74
  },
  {
   "cell_type": "code",
   "outputs": [],
   "source": [
    "def xml_to_list(months_, years_, mode_):\n",
    "    lst = []\n",
    "    for month_ in months_:\n",
    "        for year_ in years_:\n",
    "            path_ = '../data_unzipped/'+mode_+\"_\"+month_+year_+\"frl_xml.xml\"\n",
    "            if os.path.exists(path_):\n",
    "                df = pd.read_xml(path_)\n",
    "                # making sure we dont add useless people\n",
    "                df.dropna(subset=['rating','birthday','sex','name','country'])\n",
    "                df.add_suffix(month_+year_)\n",
    "                df.head(10)\n",
    "                lst.append(df)\n",
    "    return lst"
   ],
   "metadata": {
    "collapsed": false,
    "ExecuteTime": {
     "end_time": "2024-03-17T12:06:41.624927800Z",
     "start_time": "2024-03-17T12:06:41.071868900Z"
    }
   },
   "id": "ccfb951a315a483f",
   "execution_count": 75
  },
  {
   "cell_type": "code",
   "outputs": [
    {
     "name": "stdout",
     "output_type": "stream",
     "text": [
      "[          fideid                      name country sex title w_title o_title  \\\n",
      "0       10245154     A B M Jobair, Hossain     BAN   M  None    None    None   \n",
      "1       25121731                A C J John     IND   M  None    None    None   \n",
      "2       35077023            A Chakravarthy     IND   M  None    None    None   \n",
      "3       10207538          A E M, Doshtagir     BAN   M  None    None    None   \n",
      "4       10680810  A hamed Ashraf, Abdallah     EGY   M  None    None    None   \n",
      "...          ...                       ...     ...  ..   ...     ...     ...   \n",
      "440380  34190632            Zyubin, Sergey     RUS   M  None    None    None   \n",
      "440381  55746969            Zyuganov, Igor     RUS   M  None    None    None   \n",
      "440382  24232602             Zyuzev, Pavel     RUS   M  None    None    None   \n",
      "440383   1189980            Zywert, Kacper     POL   M  None    None    None   \n",
      "440384  21857814       Zyznowska, Marianna     POL   F  None    None    None   \n",
      "\n",
      "       foa_title  rating  games   k  birthday  flag  \n",
      "0           None    1583      0  40    1998.0  None  \n",
      "1           None    1063      0  40    1987.0     i  \n",
      "2           None    1151      0  40    1986.0     i  \n",
      "3           None    1840      0  40    1974.0     i  \n",
      "4           None    1728      0  40    2001.0     i  \n",
      "...          ...     ...    ...  ..       ...   ...  \n",
      "440380      None    1884      0  40    1975.0     i  \n",
      "440381      None    1325      0  40    2010.0     i  \n",
      "440382      None    1856      0  40    1993.0     i  \n",
      "440383      None    1519      0  20    1999.0     i  \n",
      "440384      None    1150      0  40    2004.0    wi  \n",
      "\n",
      "[440385 rows x 13 columns],           fideid                      name country sex title w_title o_title  \\\n",
      "0       10245154     A B M Jobair, Hossain     BAN   M  None    None    None   \n",
      "1       25121731                A C J John     IND   M  None    None    None   \n",
      "2       35077023            A Chakravarthy     IND   M  None    None    None   \n",
      "3       10207538          A E M, Doshtagir     BAN   M  None    None    None   \n",
      "4       10680810  A hamed Ashraf, Abdallah     EGY   M  None    None    None   \n",
      "...          ...                       ...     ...  ..   ...     ...     ...   \n",
      "447380  34190632            Zyubin, Sergey     RUS   M  None    None    None   \n",
      "447381  55746969            Zyuganov, Igor     RUS   M  None    None    None   \n",
      "447382  24232602             Zyuzev, Pavel     RUS   M  None    None    None   \n",
      "447383   1189980            Zywert, Kacper     POL   M  None    None    None   \n",
      "447384  21857814       Zyznowska, Marianna     POL   F  None    None    None   \n",
      "\n",
      "       foa_title  rating  games   k  birthday  flag  \n",
      "0           None    1583      0  40    1998.0  None  \n",
      "1           None    1063      0  40    1987.0     i  \n",
      "2           None    1151      0  40    1986.0     i  \n",
      "3           None    1840      0  40    1974.0     i  \n",
      "4           None    1728      0  40    2001.0     i  \n",
      "...          ...     ...    ...  ..       ...   ...  \n",
      "447380      None    1884      0  40    1975.0     i  \n",
      "447381      None    1325      0  40    2010.0     i  \n",
      "447382      None    1856      0  40    1993.0     i  \n",
      "447383      None    1519      0  20    1999.0     i  \n",
      "447384      None    1150      0  40    2004.0    wi  \n",
      "\n",
      "[447385 rows x 13 columns],           fideid                      name country sex title w_title o_title  \\\n",
      "0       10245154     A B M Jobair, Hossain     BAN   M  None    None    None   \n",
      "1       25121731                A C J John     IND   M  None    None    None   \n",
      "2       35077023            A Chakravarthy     IND   M  None    None    None   \n",
      "3       10207538          A E M, Doshtagir     BAN   M  None    None    None   \n",
      "4       10680810  A hamed Ashraf, Abdallah     EGY   M  None    None    None   \n",
      "...          ...                       ...     ...  ..   ...     ...     ...   \n",
      "450778  34190632            Zyubin, Sergey     RUS   M  None    None    None   \n",
      "450779  55746969            Zyuganov, Igor     RUS   M  None    None    None   \n",
      "450780  24232602             Zyuzev, Pavel     RUS   M  None    None    None   \n",
      "450781   1189980            Zywert, Kacper     POL   M  None    None    None   \n",
      "450782  21857814       Zyznowska, Marianna     POL   F  None    None    None   \n",
      "\n",
      "       foa_title  rating  games   k  birthday  flag  \n",
      "0           None    1750      0  40    1998.0  None  \n",
      "1           None    1438      0  40    1987.0     i  \n",
      "2           None    1491      0  40    1986.0     i  \n",
      "3           None    1904      0  40    1974.0     i  \n",
      "4           None    1837      0  40    2001.0     i  \n",
      "...          ...     ...    ...  ..       ...   ...  \n",
      "450778      None    1930      0  40    1975.0     i  \n",
      "450779      None    1595      0  40    2010.0     i  \n",
      "450780      None    1914      0  40    1993.0     i  \n",
      "450781      None    1711      0  20    1999.0     i  \n",
      "450782      None    1490      0  40    2004.0    wi  \n",
      "\n",
      "[450783 rows x 13 columns]]\n"
     ]
    }
   ],
   "source": [
    "lst_std_2024 = xml_to_list(months, [\"24\"], \"standard\")\n",
    "print(lst_std_2024)"
   ],
   "metadata": {
    "collapsed": false,
    "ExecuteTime": {
     "end_time": "2024-03-17T12:08:01.773626Z",
     "start_time": "2024-03-17T12:06:41.626922500Z"
    }
   },
   "id": "535a637d80459c58",
   "execution_count": 76
  },
  {
   "cell_type": "code",
   "outputs": [],
   "source": [
    "# not used yet\n",
    "\n",
    "int_to_mon = {\n",
    "    0: \"jan\",\n",
    "    1: \"feb\",\n",
    "    2: \"mar\",\n",
    "    3: \"apr\",\n",
    "    4: \"may\",\n",
    "    5: \"jun\",\n",
    "    6: \"jul\",\n",
    "    7: \"aug\",\n",
    "    8: \"sep\",\n",
    "    9: \"oct\",\n",
    "    10: \"nov\",\n",
    "    11: \"dec\"\n",
    "}\n",
    "\n",
    "def lst_to_df(lst):\n",
    "    for i in range(len(lst)):\n",
    "        lst[i] = lst[i].add_suffix('_'+str(i))\n",
    "        lst[i].set_index('fideid_'+str(i), inplace=True)\n",
    "        \n",
    "        \n",
    "    combined_df = lst[0]\n",
    "    for i in range(1, len(lst)):\n",
    "        combined_df = combined_df.combine_first(lst[i])\n",
    "        \n",
    "    return combined_df"
   ],
   "metadata": {
    "collapsed": false,
    "ExecuteTime": {
     "end_time": "2024-03-17T12:08:01.830511Z",
     "start_time": "2024-03-17T12:08:01.825987400Z"
    }
   },
   "id": "96f6a96aecb5bf7f",
   "execution_count": 77
  },
  {
   "cell_type": "code",
   "outputs": [],
   "source": [
    "df_std_2024 = lst_to_df(lst_std_2024)"
   ],
   "metadata": {
    "collapsed": false,
    "ExecuteTime": {
     "end_time": "2024-03-17T12:08:04.353044900Z",
     "start_time": "2024-03-17T12:08:01.829513500Z"
    }
   },
   "id": "491fa4e84ac022b0",
   "execution_count": 78
  },
  {
   "cell_type": "code",
   "outputs": [
    {
     "name": "stdout",
     "output_type": "stream",
     "text": [
      "           birthday_0  birthday_1  birthday_2 country_0 country_1 country_2  \\\n",
      "100013         1957.0      1957.0      1957.0       ARG       ARG       ARG   \n",
      "100021         1947.0      1947.0      1947.0       ARG       ARG       ARG   \n",
      "100048         1990.0      1990.0      1990.0       ARG       ARG       ARG   \n",
      "100064         2000.0      2000.0      2000.0       ARG       ARG       ARG   \n",
      "100072         1968.0      1968.0      1968.0       ARG       ARG       ARG   \n",
      "...               ...         ...         ...       ...       ...       ...   \n",
      "653099362      1971.0      1971.0      1971.0       FRA       FRA       FRA   \n",
      "653099389      1974.0      1974.0      1974.0       FRA       FRA       FRA   \n",
      "653099419         NaN      1983.0      1983.0       NaN       FRA       FRA   \n",
      "653099486         NaN      1999.0      1999.0       NaN       FRA       FRA   \n",
      "653099869         NaN      2007.0      2007.0       NaN       FRA       FRA   \n",
      "\n",
      "          flag_0 flag_1 flag_2 foa_title_0  ... rating_2 sex_0  sex_1  sex_2  \\\n",
      "100013      None   None   None        None  ...   2372.0     M      M      M   \n",
      "100021         i      i      i        None  ...   2422.0     M      M      M   \n",
      "100048         i      i      i        None  ...   1764.0     M      M      M   \n",
      "100064         i      i      i        None  ...   2116.0     M      M      M   \n",
      "100072      None   None   None        None  ...   2382.0     M      M      M   \n",
      "...          ...    ...    ...         ...  ...      ...   ...    ...    ...   \n",
      "653099362   None   None   None        None  ...   1553.0     M      M      M   \n",
      "653099389   None   None   None        None  ...   1429.0     M      M      M   \n",
      "653099419    NaN   None   None         NaN  ...   1727.0   NaN      M      M   \n",
      "653099486    NaN   None   None         NaN  ...   1677.0   NaN      M      M   \n",
      "653099869    NaN   None   None         NaN  ...   1555.0   NaN      M      M   \n",
      "\n",
      "           title_0  title_1  title_2  w_title_0 w_title_1 w_title_2  \n",
      "100013          GM       GM       GM       None      None      None  \n",
      "100021          GM       GM       GM       None      None      None  \n",
      "100048        None     None     None       None      None      None  \n",
      "100064        None     None     None       None      None      None  \n",
      "100072          IM       IM       IM       None      None      None  \n",
      "...            ...      ...      ...        ...       ...       ...  \n",
      "653099362     None     None     None       None      None      None  \n",
      "653099389     None     None     None       None      None      None  \n",
      "653099419      NaN     None     None        NaN      None      None  \n",
      "653099486      NaN     None     None        NaN      None      None  \n",
      "653099869      NaN     None     None        NaN      None      None  \n",
      "\n",
      "[451152 rows x 36 columns]\n"
     ]
    }
   ],
   "source": [
    "#print(df_std_2024)"
   ],
   "metadata": {
    "collapsed": false,
    "ExecuteTime": {
     "end_time": "2024-03-17T12:08:04.484258Z",
     "start_time": "2024-03-17T12:08:04.411858200Z"
    }
   },
   "id": "b15cd221363c7cee",
   "execution_count": 79
  },
  {
   "cell_type": "markdown",
   "source": [],
   "metadata": {
    "collapsed": false
   },
   "id": "ed3db19946eff702"
  },
  {
   "cell_type": "code",
   "outputs": [
    {
     "data": {
      "text/plain": "(array([[1.1803e+04, 1.4349e+04, 1.5924e+04, 1.6556e+04, 1.7378e+04,\n         1.7192e+04, 1.7685e+04, 1.7442e+04, 1.8283e+04, 1.8261e+04,\n         1.8414e+04, 1.8823e+04, 1.8831e+04, 1.9177e+04, 1.8480e+04,\n         1.8813e+04, 1.8252e+04, 1.7693e+04, 1.6636e+04, 1.6109e+04,\n         1.5160e+04, 1.3686e+04, 1.3698e+04, 1.1848e+04, 1.0235e+04,\n         8.0710e+03, 6.7760e+03, 4.8790e+03, 3.6490e+03, 2.2400e+03,\n         1.6960e+03, 1.0020e+03, 5.6000e+02, 3.4700e+02, 2.0900e+02,\n         1.2100e+02, 6.0000e+01, 2.9000e+01, 1.4000e+01, 4.0000e+00],\n        [1.2108e+04, 1.4652e+04, 1.6308e+04, 1.6774e+04, 1.7725e+04,\n         1.7553e+04, 1.8012e+04, 1.7731e+04, 1.8580e+04, 1.8642e+04,\n         1.8712e+04, 1.9177e+04, 1.9209e+04, 1.9445e+04, 1.8818e+04,\n         1.9180e+04, 1.8585e+04, 1.8114e+04, 1.6976e+04, 1.6369e+04,\n         1.5271e+04, 1.3827e+04, 1.3760e+04, 1.1975e+04, 1.0256e+04,\n         8.0580e+03, 6.7700e+03, 4.8990e+03, 3.6230e+03, 2.2570e+03,\n         1.6950e+03, 9.8100e+02, 5.6600e+02, 3.4000e+02, 2.1200e+02,\n         1.2100e+02, 5.7000e+01, 2.9000e+01, 1.4000e+01, 4.0000e+00],\n        [0.0000e+00, 0.0000e+00, 0.0000e+00, 0.0000e+00, 0.0000e+00,\n         0.0000e+00, 0.0000e+00, 0.0000e+00, 4.9940e+03, 2.3898e+04,\n         2.7525e+04, 2.9930e+04, 3.0044e+04, 3.1090e+04, 3.1012e+04,\n         3.2482e+04, 3.2047e+04, 3.2388e+04, 3.0833e+04, 2.9752e+04,\n         2.6758e+04, 2.2448e+04, 1.3762e+04, 1.1959e+04, 1.0255e+04,\n         8.0400e+03, 6.7750e+03, 4.8800e+03, 3.6390e+03, 2.2550e+03,\n         1.7040e+03, 9.7500e+02, 5.5400e+02, 3.4200e+02, 2.1700e+02,\n         1.2200e+02, 5.7000e+01, 2.7000e+01, 1.5000e+01, 4.0000e+00]]),\n array([1001.   , 1046.725, 1092.45 , 1138.175, 1183.9  , 1229.625,\n        1275.35 , 1321.075, 1366.8  , 1412.525, 1458.25 , 1503.975,\n        1549.7  , 1595.425, 1641.15 , 1686.875, 1732.6  , 1778.325,\n        1824.05 , 1869.775, 1915.5  , 1961.225, 2006.95 , 2052.675,\n        2098.4  , 2144.125, 2189.85 , 2235.575, 2281.3  , 2327.025,\n        2372.75 , 2418.475, 2464.2  , 2509.925, 2555.65 , 2601.375,\n        2647.1  , 2692.825, 2738.55 , 2784.275, 2830.   ]),\n <a list of 3 BarContainer objects>)"
     },
     "execution_count": 81,
     "metadata": {},
     "output_type": "execute_result"
    },
    {
     "data": {
      "text/plain": "<Figure size 640x480 with 1 Axes>",
      "image/png": "[encoded data removed]"
     },
     "metadata": {},
     "output_type": "display_data"
    }
   ],
   "source": [
    "plt.hist([df_std_2024['rating_'+str(i)] for i in range(3)], bins=40)"
   ],
   "metadata": {
    "collapsed": false,
    "ExecuteTime": {
     "end_time": "2024-03-17T12:08:51.220185700Z",
     "start_time": "2024-03-17T12:08:50.861668900Z"
    }
   },
   "id": "c210ec6701ec6029",
   "execution_count": 81
  }
 ],
 "metadata": {
  "kernelspec": {
   "display_name": "Python 3",
   "language": "python",
   "name": "python3"
  },
  "language_info": {
   "codemirror_mode": {
    "name": "ipython",
    "version": 3
   },
   "file_extension": ".py",
   "mimetype": "text/x-python",
   "name": "python",
   "nbconvert_exporter": "python",
   "pygments_lexer": "ipython3",
   "version": "3.10.10"
  }
 },
 "nbformat": 4,
 "nbformat_minor": 5
}
