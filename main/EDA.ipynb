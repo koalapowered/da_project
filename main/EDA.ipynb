{
 "cells": [
  {
   "cell_type": "markdown",
   "source": [
    "# Data Madness\n",
    "## Group idk\n",
    "\n",
    "### authors:\n",
    "* Simon Garland\n",
    "* PierrePaul Charbonnier\n",
    "* Filip Straka\n",
    "\n",
    "Department of Advanced Computing Sciences\n",
    "Maastricht University\n",
    "March 2024"
   ],
   "metadata": {
    "collapsed": false
   },
   "id": "f4406b1dda061848"
  },
  {
   "cell_type": "markdown",
   "source": [
    "Let's begin with extracting the data from the ZIP files (they'll grow tremendously)"
   ],
   "metadata": {
    "collapsed": false
   },
   "id": "bafba26c9f1be8bd"
  },
  {
   "cell_type": "code",
   "execution_count": 25,
   "id": "initial_id",
   "metadata": {
    "collapsed": true,
    "ExecuteTime": {
     "end_time": "2024-03-17T10:46:24.517667600Z",
     "start_time": "2024-03-17T10:46:24.506697600Z"
    }
   },
   "outputs": [],
   "source": [
    "import os.path\n",
    "\n",
    "# NB: im doing it on a small fraction of the data now to prevent my laptop from blowing up ever so nicely\n",
    "\n",
    "## imports ##\n",
    "\n",
    "import pandas as pd\n",
    "import numpy as np\n",
    "import matplotlib.pyplot as plt\n",
    "import seaborn as sns\n",
    "import zipfile\n",
    "import os"
   ]
  },
  {
   "cell_type": "code",
   "outputs": [],
   "source": [
    "# define all possible files\n",
    "months = ['jan', 'feb', 'mar', 'apr', 'may', 'jun', 'jul', 'aug', 'sep', 'oct', 'nov', 'dec']\n",
    "years = [\"21\", \"22\", \"23\", \"24\"]\n",
    "modes = [\"standard\", \"rapid\", \"blitz\"]"
   ],
   "metadata": {
    "collapsed": false,
    "ExecuteTime": {
     "end_time": "2024-03-17T10:46:24.539423600Z",
     "start_time": "2024-03-17T10:46:24.522654400Z"
    }
   },
   "id": "612af3e4b94978eb",
   "execution_count": 26
  },
  {
   "cell_type": "code",
   "outputs": [],
   "source": [
    "for month in months:\n",
    "    for mode in modes:\n",
    "        #for year in years:\n",
    "        year = \"24\"\n",
    "        path = '../data_zipped/'+mode+\"_\"+month+year+\"frl_xml.zip\"\n",
    "        if os.path.exists(path):\n",
    "            with zipfile.ZipFile(path, 'r') as zip_ref:\n",
    "                zip_ref.extractall('../data_unzipped')"
   ],
   "metadata": {
    "collapsed": false,
    "ExecuteTime": {
     "end_time": "2024-03-17T10:46:26.816900300Z",
     "start_time": "2024-03-17T10:46:24.527152Z"
    }
   },
   "id": "345479bf46effe08",
   "execution_count": 27
  },
  {
   "cell_type": "code",
   "outputs": [],
   "source": [
    "lst = []\n",
    "for month in months:\n",
    "    for mode in modes:\n",
    "        year = \"24\"\n",
    "        #for year in years:\n",
    "        path = '../data_unzipped/'+mode+\"_\"+month+year+\"frl_xml.xml\"\n",
    "        if os.path.exists('../data_unzipped/'+mode+\"_\"+month+year+\"frl_xml.xml\"):\n",
    "            df = pd.read_xml(path)\n",
    "            df.head(10)\n",
    "            lst.append(df)"
   ],
   "metadata": {
    "collapsed": false,
    "is_executing": true,
    "ExecuteTime": {
     "start_time": "2024-03-17T10:46:26.819961800Z"
    }
   },
   "id": "31600dec63a130b0",
   "execution_count": null
  },
  {
   "cell_type": "code",
   "outputs": [],
   "source": [],
   "metadata": {
    "collapsed": false,
    "is_executing": true
   },
   "id": "5f6ec45571feee7d"
  }
 ],
 "metadata": {
  "kernelspec": {
   "display_name": "Python 3",
   "language": "python",
   "name": "python3"
  },
  "language_info": {
   "codemirror_mode": {
    "name": "ipython",
    "version": 2
   },
   "file_extension": ".py",
   "mimetype": "text/x-python",
   "name": "python",
   "nbconvert_exporter": "python",
   "pygments_lexer": "ipython2",
   "version": "2.7.6"
  }
 },
 "nbformat": 4,
 "nbformat_minor": 5
}
