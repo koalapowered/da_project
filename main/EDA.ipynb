{
 "cells": [
  {
   "cell_type": "markdown",
   "id": "f4406b1dda061848",
   "metadata": {
    "collapsed": false
   },
   "source": [
    "# Data Madness\n",
    "## Group idk\n",
    "\n",
    "### authors:\n",
    "* Simon Garland\n",
    "* PierrePaul Charbonnier\n",
    "* Filip Straka\n",
    "\n",
    "Department of Advanced Computing Sciences\n",
    "Maastricht University\n",
    "March 2024"
   ]
  },
  {
   "cell_type": "markdown",
   "id": "bafba26c9f1be8bd",
   "metadata": {
    "collapsed": false
   },
   "source": [
    "Let's begin with extracting the data from the ZIP files (they'll grow tremendously)"
   ]
  },
  {
   "cell_type": "code",
   "execution_count": null,
   "id": "initial_id",
   "metadata": {
    "ExecuteTime": {
     "end_time": "2024-03-17T10:11:34.860230700Z",
     "start_time": "2024-03-17T10:11:34.853337800Z"
    },
    "collapsed": true
   },
   "outputs": [],
   "source": [
    "# NB: im doing it on a small fraction of the data now to prevent my laptop from blowing up ever so nicely\n",
    "\n",
    "## imports ##\n",
    "\n",
    "import pandas as pd\n",
    "import numpy as np\n",
    "import matplotlib.pyplot as plt\n",
    "import seaborn as sns\n",
    "import zipfile\n",
    "import pathvalidate"
   ]
  },
  {
   "cell_type": "code",
   "execution_count": null,
   "id": "612af3e4b94978eb",
   "metadata": {
    "ExecuteTime": {
     "end_time": "2024-03-17T10:11:34.869516200Z",
     "start_time": "2024-03-17T10:11:34.865286200Z"
    },
    "collapsed": false
   },
   "outputs": [],
   "source": [
    "# define all possible files\n",
    "months = ['jan', 'feb', 'mar', 'apr', 'may', 'jun', 'jul', 'aug', 'sep', 'oct', 'nov', 'dec']\n",
    "years = [\"21\", \"22\", \"23\", \"24\"]\n",
    "modes = [\"standard\", \"rapid\", \"blitz\"]"
   ]
  },
  {
   "cell_type": "code",
   "execution_count": null,
   "id": "6e5b6e85",
   "metadata": {},
   "outputs": [],
   "source": [
    "import os\n",
    "import zipfile\n",
    "\n",
    "# Print the current working directory to understand where the script is executing\n",
    "print(\"Current Working Directory:\", os.getcwd())\n",
    "\n",
    "mode = \"standard\"\n",
    "month = \"apr\"\n",
    "year = \"24\"\n",
    "path = '../data_zipped/'+mode+\"_\"+month+year+\"frl_xml.zip\"\n",
    "\n",
    "# Check if the file exists at the specified path\n",
    "if os.path.exists(path):\n",
    "    with zipfile.ZipFile(path, 'r') as zip_ref:\n",
    "        zip_ref.extractall('../data_unzipped')\n",
    "    print(\"File extracted successfully.\")\n",
    "else:\n",
    "    print(\"File not found at path:\", path)\n"
   ]
  },
  {
   "cell_type": "code",
   "execution_count": null,
   "id": "345479bf46effe08",
   "metadata": {
    "ExecuteTime": {
     "end_time": "2024-03-17T10:11:50.461555100Z",
     "start_time": "2024-03-17T10:11:34.870513600Z"
    },
    "collapsed": false
   },
   "outputs": [],
   "source": [
    "import os\n",
    "import zipfile\n",
    "\n",
    "def extract_all_zip_files(source_dir, destination_dir):\n",
    "    # Ensure the source directory is an absolute path\n",
    "    source_dir = os.path.abspath(source_dir)\n",
    "    destination_dir = os.path.abspath(destination_dir)\n",
    "    \n",
    "    # List all files in the source directory\n",
    "    for filename in os.listdir(source_dir):\n",
    "        if filename.endswith('.zip'):\n",
    "            zip_path = os.path.join(source_dir, filename)\n",
    "            try:\n",
    "                with zipfile.ZipFile(zip_path, 'r') as zip_ref:\n",
    "                    zip_ref.extractall(destination_dir)\n",
    "                print(f\"File extracted successfully: {zip_path}\")\n",
    "            except zipfile.BadZipFile:\n",
    "                print(f\"Failed to unzip file (may be corrupted): {zip_path}\")\n",
    "            except Exception as e:\n",
    "                print(f\"An error occurred while unzipping {zip_path}: {e}\")\n",
    "        else:\n",
    "            print(f\"Skipped non-zip file: {filename}\")\n",
    "\n",
    "# Usage example\n",
    "source_dir = '../data_zipped'\n",
    "destination_dir = '../data_unzipped'\n",
    "extract_all_zip_files(source_dir, destination_dir)\n",
    "\n"
   ]
  },
  {
   "cell_type": "code",
   "execution_count": null,
   "id": "31600dec63a130b0",
   "metadata": {
    "collapsed": false
   },
   "outputs": [],
   "source": []
  }
 ],
 "metadata": {
  "kernelspec": {
   "display_name": "Python 3",
   "language": "python",
   "name": "python3"
  },
  "language_info": {
   "codemirror_mode": {
    "name": "ipython",
    "version": 3
   },
   "file_extension": ".py",
   "mimetype": "text/x-python",
   "name": "python",
   "nbconvert_exporter": "python",
   "pygments_lexer": "ipython3",
   "version": "3.10.10"
  }
 },
 "nbformat": 4,
 "nbformat_minor": 5
}
