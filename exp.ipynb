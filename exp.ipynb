{
 "cells": [
  {
   "cell_type": "markdown",
   "source": [
    "# FIDE Data on player ranking\n",
    "an in-depth analysis"
   ],
   "metadata": {
    "collapsed": false
   },
   "id": "ea2afdebe8edb19a"
  },
  {
   "cell_type": "markdown",
   "source": [
    "https://github.com/lichess-org/berserk/blob/master/docs/usage.rst"
   ],
   "metadata": {
    "collapsed": false
   },
   "id": "6195ed9c0587e42"
  },
  {
   "cell_type": "code",
   "outputs": [],
   "source": [
    "from_what_year = 2022\n",
    "until_what_year_included = 2023\n",
    "how_many_games = 100"
   ],
   "metadata": {
    "collapsed": false
   },
   "id": "12838e3e7bb4f5a4"
  },
  {
   "cell_type": "code",
   "outputs": [],
   "source": [
    "import requests\n",
    "from bs4 import BeautifulSoup\n",
    "\n",
    "headers = {'User-Agent': 'Mozilla/5.0 (Windows NT 10.0; Win64; x64) AppleWebKit/537.36 (KHTML, like Gecko) Chrome/91.0.4472.124 Safari/537.36'}"
   ],
   "metadata": {
    "collapsed": false,
    "ExecuteTime": {
     "end_time": "2024-02-25T17:09:57.860144700Z",
     "start_time": "2024-02-25T17:09:57.643365200Z"
    }
   },
   "id": "7136702eb6539172",
   "execution_count": 1
  },
  {
   "cell_type": "code",
   "outputs": [],
   "source": [
    "urls = [\n",
    "    \"https://lichess.org/player/top/200/rapid\", \n",
    "    \"https://lichess.org/player/top/200/classical\",\n",
    "    \"https://lichess.org/player/top/200/blitz\",\n",
    "    \"https://lichess.org/player/top/200/bullet\"\n",
    "        ]\n",
    "# rapid top 200, classical top 200, blitz top 200, bullet top 200\n",
    "top_200 = []\n",
    "for url in urls:\n",
    "    response = requests.get(url, headers=headers)\n",
    "\n",
    "    if response.status_code == 200:\n",
    "        # Parse the HTML content of the page using BeautifulSoup\n",
    "        soup = BeautifulSoup(response.text, 'html.parser')\n",
    "    \n",
    "        all_as = soup.find_all('a', class_='user-link')\n",
    "        temp = []\n",
    "        if all_as:\n",
    "            for a in all_as:\n",
    "                temp.append(a.get('href')[3:])\n",
    "        else:\n",
    "            print(f\"Failed to find the target <div> ({url})\")\n",
    "        top_200.append(temp)\n",
    "    \n",
    "    else:\n",
    "        print(f\"Failed to retrieve the webpage ({url}). Status code: {response.status_code}\")\n",
    "        "
   ],
   "metadata": {
    "collapsed": false,
    "ExecuteTime": {
     "end_time": "2024-02-25T17:10:02.323549900Z",
     "start_time": "2024-02-25T17:10:00.212996900Z"
    }
   },
   "id": "a7aca8e29a63982",
   "execution_count": 2
  },
  {
   "cell_type": "code",
   "outputs": [],
   "source": [
    "api_token = \"lip_boGM1MWUY1PXESFGzopR\"\n",
    "import berserk"
   ],
   "metadata": {
    "collapsed": false,
    "ExecuteTime": {
     "end_time": "2024-02-25T17:10:05.738663100Z",
     "start_time": "2024-02-25T17:10:05.661114200Z"
    }
   },
   "id": "f3359876a1673569",
   "execution_count": 3
  },
  {
   "cell_type": "code",
   "outputs": [],
   "source": [
    "session = berserk.TokenSession(api_token)\n",
    "client = berserk.Client(session)"
   ],
   "metadata": {
    "collapsed": false,
    "ExecuteTime": {
     "end_time": "2024-02-25T17:10:07.641075900Z",
     "start_time": "2024-02-25T17:10:07.623578100Z"
    }
   },
   "id": "ded8bb94477a8aba",
   "execution_count": 4
  },
  {
   "cell_type": "code",
   "outputs": [],
   "source": [
    "import datetime\n",
    "periods = []\n",
    "\n",
    "for year in range(from_what_year, until_what_year_included + 1):\n",
    "    for month in range(1, 13):\n",
    "        periods.append(datetime.datetime(year=year, month=month, day=1))"
   ],
   "metadata": {
    "collapsed": false,
    "ExecuteTime": {
     "end_time": "2024-02-25T17:10:08.960147Z",
     "start_time": "2024-02-25T17:10:08.953654900Z"
    }
   },
   "id": "1e8281fcadd5a9b7",
   "execution_count": 5
  },
  {
   "cell_type": "code",
   "outputs": [
    {
     "name": "stdout",
     "output_type": "stream",
     "text": [
      "2023-01-01 00:00:00 2023-12-01 00:00:00\n"
     ]
    }
   ],
   "source": [
    "print(periods[0], periods[-1])"
   ],
   "metadata": {
    "collapsed": false,
    "ExecuteTime": {
     "end_time": "2024-02-25T17:10:13.687906Z",
     "start_time": "2024-02-25T17:10:13.657956200Z"
    }
   },
   "id": "f5e2906c88a4af1c",
   "execution_count": 6
  },
  {
   "cell_type": "code",
   "outputs": [],
   "source": [
    "how_many_categories = len(top_200)"
   ],
   "metadata": {
    "collapsed": false
   },
   "id": "875cf5b673ff1ee3"
  },
  {
   "cell_type": "code",
   "outputs": [
    {
     "name": "stdout",
     "output_type": "stream",
     "text": [
      "person  0\n",
      "person  1\n",
      "person  2\n",
      "person  3\n",
      "person  4\n",
      "person  0\n",
      "person  1\n",
      "person  2\n",
      "person  3\n",
      "person  4\n",
      "person  0\n",
      "person  1\n",
      "person  2\n",
      "person  3\n",
      "person  4\n",
      "person  0\n",
      "person  1\n",
      "person  2\n",
      "person  3\n",
      "person  4\n"
     ]
    }
   ],
   "source": [
    "huge_df_list = []\n",
    "for category in range (0, how_many_categories): #len(top_200)\n",
    "    temp = []\n",
    "    for date in range (0, len(periods)-1): #\n",
    "        for person in range (0, len(top_200[category])):\n",
    "            games = client.games.export_by_player(top_200[category][person], periods[date], periods[date+1], max=how_many_games)\n",
    "            print(\"person \", person)\n",
    "            temp.append([game.split(\"\\n\") for game in games])\n",
    "    huge_df_list.append(temp)"
   ],
   "metadata": {
    "collapsed": false,
    "ExecuteTime": {
     "end_time": "2024-02-25T17:21:43.828567400Z",
     "start_time": "2024-02-25T17:20:37.525684300Z"
    }
   },
   "id": "4f0e428e50eea4de",
   "execution_count": 12
  },
  {
   "cell_type": "code",
   "outputs": [],
   "source": [
    "#!pip install pandas\n",
    "import pandas as pd"
   ],
   "metadata": {
    "collapsed": false,
    "ExecuteTime": {
     "end_time": "2024-02-25T17:22:08.108130400Z",
     "start_time": "2024-02-25T17:22:07.518377700Z"
    }
   },
   "id": "b6f2f45659337b44",
   "execution_count": 13
  },
  {
   "cell_type": "code",
   "outputs": [],
   "source": [
    "df_list = [pd.DataFrame(data=data) for data in huge_df_list]"
   ],
   "metadata": {
    "collapsed": false,
    "ExecuteTime": {
     "end_time": "2024-02-25T17:22:10.978006100Z",
     "start_time": "2024-02-25T17:22:10.968828300Z"
    }
   },
   "id": "7ecd9f3e72b1c79",
   "execution_count": 14
  },
  {
   "cell_type": "code",
   "outputs": [],
   "source": [
    "# write it into some sheets here and reupload with the excel sheets \n",
    "# https://pandas.pydata.org/pandas-docs/stable/reference/api/pandas.DataFrame.to_excel.html\n",
    "for i in range (0, len(df_list)):\n",
    "    df_list[i].to_excel(\"data\"+str(i)+\".xlsx\")"
   ],
   "metadata": {
    "collapsed": false,
    "ExecuteTime": {
     "end_time": "2024-02-25T17:27:21.926712800Z",
     "start_time": "2024-02-25T17:27:21.728152400Z"
    }
   },
   "id": "2ecf5c0de2afb3eb",
   "execution_count": 17
  }
 ],
 "metadata": {
  "kernelspec": {
   "display_name": "Python 3",
   "language": "python",
   "name": "python3"
  },
  "language_info": {
   "codemirror_mode": {
    "name": "ipython",
    "version": 2
   },
   "file_extension": ".py",
   "mimetype": "text/x-python",
   "name": "python",
   "nbconvert_exporter": "python",
   "pygments_lexer": "ipython2",
   "version": "2.7.6"
  }
 },
 "nbformat": 4,
 "nbformat_minor": 5
}
